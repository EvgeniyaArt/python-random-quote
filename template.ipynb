{
  "nbformat": 4,
  "nbformat_minor": 0,
  "metadata": {
    "colab": {
      "name": "intro.ipynb",
      "provenance": [],
      "collapsed_sections": [],
      "authorship_tag": "ABX9TyN0jv9dUcATFYUJ8YT1pnQz",
      "include_colab_link": true
    },
    "kernelspec": {
      "name": "python3",
      "display_name": "Python 3"
    },
    "language_info": {
      "name": "python"
    }
  },
  "cells": [
    {
      "cell_type": "markdown",
      "metadata": {
        "id": "view-in-github",
        "colab_type": "text"
      },
      "source": [
        "<a href=\"https://colab.research.google.com/github/EvgeniyaArt/python-random-quote/blob/master/template.ipynb\" target=\"_parent\"><img src=\"https://colab.research.google.com/assets/colab-badge.svg\" alt=\"Open In Colab\"/></a>"
      ]
    },
    {
      "cell_type": "code",
      "metadata": {
        "id": "P1OXCA-vXjZH",
        "colab": {
          "base_uri": "https://localhost:8080/"
        },
        "outputId": "8dcb7dd1-bdbc-43e3-d288-1e3cc32eaf4d"
      },
      "source": [
        "print ('Hello, World!')"
      ],
      "execution_count": null,
      "outputs": [
        {
          "output_type": "stream",
          "name": "stdout",
          "text": [
            "Hello, World!\n"
          ]
        }
      ]
    },
    {
      "cell_type": "code",
      "metadata": {
        "id": "t3zYeZPM-a_m",
        "colab": {
          "base_uri": "https://localhost:8080/"
        },
        "outputId": "0a24bd17-16ba-44ea-c048-ba18c59b4954"
      },
      "source": [
        "print ('Hello, Colab')"
      ],
      "execution_count": null,
      "outputs": [
        {
          "output_type": "stream",
          "name": "stdout",
          "text": [
            "Hello, Colab\n"
          ]
        }
      ]
    }
  ]
}